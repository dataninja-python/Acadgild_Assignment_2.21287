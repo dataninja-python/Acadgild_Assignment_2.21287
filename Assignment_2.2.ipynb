{
 "cells": [
  {
   "cell_type": "markdown",
   "metadata": {},
   "source": [
    "\n",
    "Create the below patter using nested **for loop** in Python:\n",
    "\n",
    "```\n",
    "*\n",
    "**\n",
    "***\n",
    "****\n",
    "*****\n",
    "****\n",
    "***\n",
    "**\n",
    "*\n",
    "```"
   ]
  },
  {
   "cell_type": "code",
   "execution_count": 33,
   "metadata": {},
   "outputs": [
    {
     "name": "stdout",
     "output_type": "stream",
     "text": [
      "*\n",
      "**\n",
      "***\n",
      "****\n",
      "*****\n",
      "****\n",
      "***\n",
      "**\n",
      "*\n"
     ]
    }
   ],
   "source": [
    "count = 0\n",
    "star_lists = []\n",
    "while count < 10:\n",
    "    count +=1\n",
    "    if count < 6:\n",
    "        multiple = count\n",
    "        star_lists.append(list(str(multiple)))\n",
    "    elif count < 10:\n",
    "        multiple -= 1\n",
    "        star_lists.append(list(str(multiple)))\n",
    "    else:\n",
    "        for slist in star_lists:\n",
    "            for s in slist:\n",
    "                print('*' * int(s))"
   ]
  }
 ],
 "metadata": {
  "kernelspec": {
   "display_name": "Python 3",
   "language": "python",
   "name": "python3"
  },
  "language_info": {
   "codemirror_mode": {
    "name": "ipython",
    "version": 3
   },
   "file_extension": ".py",
   "mimetype": "text/x-python",
   "name": "python",
   "nbconvert_exporter": "python",
   "pygments_lexer": "ipython3",
   "version": "3.6.6"
  }
 },
 "nbformat": 4,
 "nbformat_minor": 2
}
